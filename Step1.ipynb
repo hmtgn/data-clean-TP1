{
 "cells": [
  {
   "cell_type": "code",
   "execution_count": 2,
   "metadata": {},
   "outputs": [
    {
     "name": "stderr",
     "output_type": "stream",
     "text": [
      "C:\\Users\\hmont\\AppData\\Local\\Temp\\ipykernel_17072\\4080736814.py:1: DeprecationWarning: \n",
      "Pyarrow will become a required dependency of pandas in the next major release of pandas (pandas 3.0),\n",
      "(to allow more performant data types, such as the Arrow string type, and better interoperability with other libraries)\n",
      "but was not found to be installed on your system.\n",
      "If this would cause problems for you,\n",
      "please provide us feedback at https://github.com/pandas-dev/pandas/issues/54466\n",
      "        \n",
      "  import pandas as pd\n"
     ]
    }
   ],
   "source": [
    "import pandas as pd"
   ]
  },
  {
   "cell_type": "code",
   "execution_count": 9,
   "metadata": {},
   "outputs": [],
   "source": [
    "columns_to_load = ['nom', 'adr_num', 'adr_voie', 'com_cp', 'com_nom', 'tel1', 'dermnt', 'freq_mnt', 'lat_coor1', 'long_coor1']"
   ]
  },
  {
   "cell_type": "code",
   "execution_count": 38,
   "metadata": {},
   "outputs": [
    {
     "name": "stdout",
     "output_type": "stream",
     "text": [
      "                                            nom  lat_coor1  long_coor1  \\\n",
      "0  Plateau sportif de GrammontTerrain 9, 10, 11   3.933921   43.613635   \n",
      "\n",
      "  adr_num                adr_voie  com_cp      com_nom             tel1  \\\n",
      "0          avenue albert Einstein   34000  Montpellier  334 67 64 87 70   \n",
      "\n",
      "       freq_mnt      dermnt  \n",
      "0  tous les ans  2019-05-15  \n"
     ]
    }
   ],
   "source": [
    "df_data = pd.read_csv(\"sample_dirty.csv\", delimiter=',', usecols=columns_to_load)\n",
    "print(df_data)\n"
   ]
  },
  {
   "cell_type": "code",
   "execution_count": 39,
   "metadata": {},
   "outputs": [
    {
     "name": "stdout",
     "output_type": "stream",
     "text": [
      "                                            nom  lat_coor1  long_coor1  \\\n",
      "0  Plateau sportif de GrammontTerrain 9, 10, 11   3.933921   43.613635   \n",
      "\n",
      "              tel1      freq_mnt      dermnt  \\\n",
      "0  334 67 64 87 70  tous les ans  2019-05-15   \n",
      "\n",
      "                                   Adresse  \n",
      "0   avenue albert Einstein34000Montpellier  \n"
     ]
    }
   ],
   "source": [
    "df_data[\"Adresse\"] = df_data[\"adr_num\"].astype(str) + df_data[\"adr_voie\"] + df_data[\"com_cp\"].astype(str) + df_data[\"com_nom\"] \n",
    "df_data = df_data.drop(columns=[\"adr_num\", 'adr_voie', 'com_cp', 'com_nom'])\n",
    "\n",
    "print(df_data.head())"
   ]
  },
  {
   "cell_type": "code",
   "execution_count": 44,
   "metadata": {},
   "outputs": [
    {
     "name": "stdout",
     "output_type": "stream",
     "text": [
      "                                            nom  \\\n",
      "0  Plateau sportif de GrammontTerrain 9, 10, 11   \n",
      "\n",
      "                                   Adresse             tel1      dermnt  \\\n",
      "0   avenue albert Einstein34000Montpellier  334 67 64 87 70  2019-05-15   \n",
      "\n",
      "       freq_mnt  long_coor1  lat_coor1  \n",
      "0  tous les ans   43.613635   3.933921  \n"
     ]
    }
   ],
   "source": [
    "df_data = df_data[['nom', 'Adresse', 'tel1', 'dermnt', 'freq_mnt', 'long_coor1', 'lat_coor1']]\n",
    "\n",
    "print(df_data.head())"
   ]
  }
 ],
 "metadata": {
  "kernelspec": {
   "display_name": "Python 3",
   "language": "python",
   "name": "python3"
  },
  "language_info": {
   "codemirror_mode": {
    "name": "ipython",
    "version": 3
   },
   "file_extension": ".py",
   "mimetype": "text/x-python",
   "name": "python",
   "nbconvert_exporter": "python",
   "pygments_lexer": "ipython3",
   "version": "3.12.1"
  }
 },
 "nbformat": 4,
 "nbformat_minor": 2
}
